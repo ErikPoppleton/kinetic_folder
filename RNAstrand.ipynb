{
 "cells": [
  {
   "cell_type": "code",
   "execution_count": 78,
   "metadata": {},
   "outputs": [
    {
     "name": "stdout",
     "output_type": "stream",
     "text": [
      "The autoreload extension is already loaded. To reload it, use:\n",
      "  %reload_ext autoreload\n"
     ]
    }
   ],
   "source": [
    "%load_ext autoreload\n",
    "%autoreload 2\n",
    "import RNA\n",
    "import numpy as np\n",
    "import matplotlib.pyplot as plt\n",
    "import matplotlib as mpl\n",
    "import os\n",
    "from random import choices, seed\n",
    "\n",
    "from utils import *\n",
    "from penalties import *"
   ]
  },
  {
   "cell_type": "code",
   "execution_count": 41,
   "metadata": {},
   "outputs": [],
   "source": [
    "seq_db_pairs = parse_dp_file('RNAstrand/RNAstrand_noMS_noPK.dp')"
   ]
  },
  {
   "cell_type": "code",
   "execution_count": 110,
   "metadata": {},
   "outputs": [
    {
     "name": "stdout",
     "output_type": "stream",
     "text": [
      "SPR_00223 85\n",
      "SPR_00099 77\n",
      "RFA_00653 66\n",
      "SPR_00178 76\n",
      "PDB_00191 15\n",
      "SPR_00518 77\n",
      "RFA_00678 44\n",
      "SPR_00468 77\n",
      "SRP_00101 85\n",
      "RFA_00399 54\n",
      "SRP_00367 117\n",
      "PDB_00430 81\n",
      "SPR_00279 77\n",
      "SRP_00072 113\n",
      "PDB_00026 17\n",
      "SPR_00513 77\n",
      "RFA_00698 116\n",
      "CRW_01578 120\n",
      "SPR_00343 75\n",
      "RFA_00585 99\n",
      "RFA_00705 46\n",
      "SPR_00485 77\n",
      "SPR_00483 76\n",
      "SPR_00292 78\n",
      "SPR_00529 75\n",
      "SPR_00189 70\n",
      "RFA_00797 101\n",
      "SRP_00235 101\n",
      "SPR_00477 77\n",
      "RFA_00407 54\n",
      "SPR_00331 75\n",
      "SRP_00081 106\n",
      "RFA_00792 101\n",
      "PDB_01072 28\n",
      "PDB_00402 75\n",
      "CRW_01580 120\n",
      "SPR_00084 76\n",
      "SPR_00224 87\n",
      "SPR_00165 77\n",
      "CRW_01541 120\n",
      "RFA_00710 45\n",
      "SPR_00274 77\n",
      "SPR_00226 86\n",
      "SPR_00310 76\n",
      "SPR_00249 85\n",
      "PDB_00374 73\n",
      "PDB_01168 20\n",
      "RFA_00785 101\n",
      "SRP_00083 99\n",
      "SPR_00480 76\n",
      "RFA_00408 54\n",
      "SPR_00476 75\n",
      "SPR_00213 88\n",
      "RFA_00744 43\n",
      "SPR_00469 76\n",
      "SPR_00124 72\n",
      "SPR_00449 78\n",
      "SPR_00133 75\n",
      "SPR_00263 85\n",
      "SPR_00555 77\n",
      "PDB_00565 128\n",
      "SRP_00310 77\n",
      "SPR_00090 76\n",
      "SPR_00089 76\n",
      "SPR_00448 78\n",
      "CRW_01552 120\n",
      "SPR_00040 75\n",
      "SPR_00394 86\n",
      "RFA_00789 101\n",
      "SRP_00001 117\n",
      "SPR_00490 77\n",
      "SPR_00031 71\n",
      "SPR_00416 85\n",
      "SPR_00384 92\n",
      "RFA_00591 100\n",
      "SPR_00137 77\n",
      "SPR_00153 77\n",
      "PDB_01041 12\n",
      "CRW_01580 120\n",
      "PDB_00091 13\n",
      "CRW_01564 120\n",
      "PDB_00206 24\n",
      "SPR_00512 77\n",
      "PDB_00347 49\n",
      "SRP_00225 92\n",
      "SPR_00530 75\n",
      "SPR_00848 85\n",
      "SPR_00132 74\n",
      "RFA_00737 43\n",
      "SPR_00206 76\n",
      "SPR_00876 68\n",
      "SRP_00140 131\n",
      "RFA_00741 43\n",
      "SPR_00401 61\n",
      "PDB_00159 27\n",
      "SPR_00246 74\n",
      "RFA_00584 77\n",
      "CRW_01582 120\n",
      "RFA_00591 100\n",
      "SPR_00312 76\n"
     ]
    }
   ],
   "source": [
    "# Get sequences under 150 nt\n",
    "small_seqs = []\n",
    "for k, v in seq_db_pairs.items():\n",
    "    if len(v['seq']) < 151:\n",
    "        small_seqs.append(k)\n",
    "\n",
    "# Get 100 random short structures \n",
    "seed(1337)\n",
    "sample = choices(small_seqs, k=100)\n",
    "for s in sample:\n",
    "    print(s, len(seq_db_pairs[s]['seq']))\n",
    "\n"
   ]
  },
  {
   "cell_type": "code",
   "execution_count": 111,
   "metadata": {},
   "outputs": [
    {
     "name": "stdout",
     "output_type": "stream",
     "text": [
      "Working on SPR_00223 len = 85\n",
      "Working on SPR_00099 len = 77\n",
      "Working on RFA_00653 len = 66\n",
      "Working on SPR_00178 len = 76\n",
      "Working on PDB_00191 len = 15\n",
      "Working on SPR_00518 len = 77\n",
      "Working on RFA_00678 len = 44\n",
      "Working on SPR_00468 len = 77\n",
      "Working on SRP_00101 len = 85\n",
      "Working on RFA_00399 len = 54\n",
      "Working on SRP_00367 len = 117\n",
      "Working on PDB_00430 len = 81\n",
      "Working on SPR_00279 len = 77\n",
      "Working on SRP_00072 len = 113\n",
      "Working on PDB_00026 len = 17\n",
      "Working on SPR_00513 len = 77\n",
      "Working on RFA_00698 len = 116\n",
      "Working on CRW_01578 len = 120\n",
      "Working on SPR_00343 len = 75\n",
      "Working on RFA_00585 len = 99\n",
      "Working on RFA_00705 len = 46\n",
      "Working on SPR_00485 len = 77\n",
      "Working on SPR_00483 len = 76\n",
      "Working on SPR_00292 len = 78\n",
      "Working on SPR_00529 len = 75\n",
      "Working on SPR_00189 len = 70\n",
      "Working on RFA_00797 len = 101\n",
      "Working on SRP_00235 len = 101\n",
      "Working on SPR_00477 len = 77\n",
      "Working on RFA_00407 len = 54\n",
      "Working on SPR_00331 len = 75\n",
      "Working on SRP_00081 len = 106\n",
      "Working on RFA_00792 len = 101\n",
      "Working on PDB_01072 len = 28\n",
      "Working on PDB_00402 len = 75\n",
      "Working on CRW_01580 len = 120\n",
      "Working on SPR_00084 len = 76\n",
      "Working on SPR_00224 len = 87\n",
      "Working on SPR_00165 len = 77\n",
      "Working on CRW_01541 len = 120\n",
      "Working on RFA_00710 len = 45\n",
      "Working on SPR_00274 len = 77\n",
      "Working on SPR_00226 len = 86\n",
      "Working on SPR_00310 len = 76\n",
      "Working on SPR_00249 len = 85\n",
      "Working on PDB_00374 len = 73\n",
      "Working on PDB_01168 len = 20\n",
      "Working on RFA_00785 len = 101\n",
      "Working on SRP_00083 len = 99\n",
      "Working on SPR_00480 len = 76\n",
      "Working on RFA_00408 len = 54\n",
      "Working on SPR_00476 len = 75\n",
      "Working on SPR_00213 len = 88\n",
      "Working on RFA_00744 len = 43\n",
      "Working on SPR_00469 len = 76\n",
      "Working on SPR_00124 len = 72\n",
      "Working on SPR_00449 len = 78\n",
      "Working on SPR_00133 len = 75\n",
      "Working on SPR_00263 len = 85\n",
      "Working on SPR_00555 len = 77\n",
      "Working on PDB_00565 len = 128\n",
      "Working on SRP_00310 len = 77\n",
      "Working on SPR_00090 len = 76\n",
      "Working on SPR_00089 len = 76\n",
      "Working on SPR_00448 len = 78\n",
      "Working on CRW_01552 len = 120\n",
      "Working on SPR_00040 len = 75\n",
      "Working on SPR_00394 len = 86\n",
      "Working on RFA_00789 len = 101\n",
      "Working on SRP_00001 len = 117\n",
      "Working on SPR_00490 len = 77\n",
      "Working on SPR_00031 len = 71\n",
      "Working on SPR_00416 len = 85\n",
      "Working on SPR_00384 len = 92\n",
      "Working on RFA_00591 len = 100\n",
      "Working on SPR_00137 len = 77\n",
      "Working on SPR_00153 len = 77\n",
      "Working on PDB_01041 len = 12\n",
      "Working on CRW_01580 len = 120\n",
      "Working on PDB_00091 len = 13\n",
      "Working on CRW_01564 len = 120\n",
      "Working on PDB_00206 len = 24\n",
      "Working on SPR_00512 len = 77\n",
      "Working on PDB_00347 len = 49\n",
      "Working on SRP_00225 len = 92\n",
      "Working on SPR_00530 len = 75\n",
      "Working on SPR_00848 len = 85\n",
      "Working on SPR_00132 len = 74\n",
      "Working on RFA_00737 len = 43\n",
      "Working on SPR_00206 len = 76\n",
      "Working on SPR_00876 len = 68\n",
      "Working on SRP_00140 len = 131\n",
      "Working on RFA_00741 len = 43\n",
      "Working on SPR_00401 len = 61\n",
      "Working on PDB_00159 len = 27\n",
      "Working on SPR_00246 len = 74\n",
      "Working on RFA_00584 len = 77\n",
      "Working on CRW_01582 len = 120\n",
      "Working on RFA_00591 len = 100\n",
      "Working on SPR_00312 len = 76\n"
     ]
    }
   ],
   "source": [
    "# See where the best structures happen\n",
    "#percents = np.arange(0.00, 1.05, 0.05)\n",
    "percents = np.arange(0.00, 0.4, 0.025)\n",
    "md = RNA.md()\n",
    "md.temperature = 37\n",
    "samples = {}\n",
    "for k in sample:\n",
    "    seq = seq_db_pairs[k]['seq']\n",
    "    ref = seq_db_pairs[k]['db']\n",
    "    print(\"Working on\", k, \"len =\", len(seq))\n",
    "\n",
    "    samples[k] = {}\n",
    "\n",
    "    for p in percents:\n",
    "        #print(\"Working on percentage = {:.3f}\".format(p))\n",
    "        samples[k][p] = {}\n",
    "        last_structure = ''\n",
    "        for length in range(10, len(seq)):\n",
    "            subseq = seq[:length+1]\n",
    "\n",
    "            samples[k][p][length+1] = sequence_dependent_penalty(subseq, p, last_structure, md)[0]\n",
    "            last_structure = samples[k][p][length+1]\n",
    "\n",
    "\n"
   ]
  },
  {
   "cell_type": "code",
   "execution_count": 125,
   "metadata": {},
   "outputs": [],
   "source": [
    "x = []\n",
    "y = []\n",
    "ymin = []\n",
    "ymax = []\n",
    "c = []\n",
    "for k in samples.keys():\n",
    "    length = len(seq_db_pairs[k]['seq'])\n",
    "    best_score = -1\n",
    "    best_percent = 0\n",
    "    mccs = []\n",
    "    #print(k)\n",
    "    for p in percents:\n",
    "        mcc = calc_MCC(samples[k][p][length], seq_db_pairs[k]['db'])\n",
    "        mccs.append(mcc)\n",
    "        #print(f\"{p:.3f}\", f\"{mcc:.3f}\")\n",
    "        if mcc >= best_score:\n",
    "            best_score = mcc\n",
    "            best_percent = p\n",
    "\n",
    "    # For most of these, the best structure happened over a range\n",
    "    mccs = np.array(mccs)\n",
    "    mask = mccs == best_score\n",
    "    yrange = percents[mask]\n",
    "    ymin.append(min(yrange))\n",
    "    ymax.append(max(yrange))\n",
    "\n",
    "    x.append(best_score)\n",
    "    y.append(best_percent)\n",
    "    c.append(length)\n",
    "\n",
    "ymax = [m + 0.01 for m in ymax]"
   ]
  },
  {
   "cell_type": "code",
   "execution_count": 161,
   "metadata": {},
   "outputs": [
    {
     "name": "stderr",
     "output_type": "stream",
     "text": [
      "/var/folders/17/slptg8t94v771jqd8vv_wn6h0000gp/T/ipykernel_77585/2093932752.py:9: MatplotlibDeprecationWarning: Unable to determine Axes to steal space for Colorbar. Using gca(), but will raise in the future. Either provide the *cax* argument to use as the Axes for the Colorbar, provide the *ax* argument to steal space from it, or add *mappable* to an Axes.\n",
      "  cbar = fig.colorbar(mpl.cm.ScalarMappable(cmap=cmap, norm=mpl.colors.Normalize(vmin=0, vmax=max(c))))\n"
     ]
    },
    {
     "data": {
      "image/png": "[encoded data removed]",
      "text/plain": [
       "<Figure size 640x480 with 2 Axes>"
      ]
     },
     "metadata": {},
     "output_type": "display_data"
    }
   ],
   "source": [
    "cmap = mpl.colormaps['viridis']\n",
    "cols = [cmap(l/max(c)) for l in c]\n",
    "fig, ax = plt.subplots()\n",
    "#s = ax.scatter(x, y, c=c)\n",
    "bars = ax.vlines(x, ymin, ymax, colors=cols, linewidths=[2 for _ in x])\n",
    "\n",
    "ax.set_xlabel('MCC')\n",
    "ax.set_ylabel('Penalty multiplier with best MCC')\n",
    "cbar = fig.colorbar(mpl.cm.ScalarMappable(cmap=cmap, norm=mpl.colors.Normalize(vmin=0, vmax=max(c))))\n",
    "#cbar = ax.figure.colorbar(bars, ax=ax)\n",
    "cbar.ax.set_ylabel('Sequence length', rotation=-90, va=\"bottom\")\n",
    "\n",
    "plt.show()"
   ]
  },
  {
   "cell_type": "code",
   "execution_count": 163,
   "metadata": {},
   "outputs": [],
   "source": [
    "hist = np.zeros_like(percents)\n",
    "for mi, ma in zip(ymin, ymax):\n",
    "    mask = np.logical_and(percents >= mi, percents < ma)\n",
    "    hist += [int(m) for m in mask]\n",
    "    \n",
    "hist /= 100"
   ]
  },
  {
   "cell_type": "code",
   "execution_count": 159,
   "metadata": {},
   "outputs": [
    {
     "data": {
      "image/png": "[encoded data removed]",
      "text/plain": [
       "<Figure size 640x480 with 1 Axes>"
      ]
     },
     "metadata": {},
     "output_type": "display_data"
    }
   ],
   "source": [
    "fig, ax = plt.subplots()\n",
    "ax.bar(np.arange(0, len(percents)), hist)\n",
    "ax.set_xticks(np.arange(0, len(percents))[::2])\n",
    "ax.set_xticklabels([f\"{p:.3f}\" for p in percents[0::2]])\n",
    "ax.set_xlabel(\"Penalty\")\n",
    "ax.set_ylabel(\"Fraction best prediction\")\n",
    "ax.spines['right'].set_visible(False)\n",
    "ax.spines['top'].set_visible(False)"
   ]
  },
  {
   "cell_type": "code",
   "execution_count": 144,
   "metadata": {},
   "outputs": [
    {
     "data": {
      "text/plain": [
       "array([0.   , 0.025, 0.05 , 0.075, 0.1  , 0.125, 0.15 , 0.175, 0.2  ,\n",
       "       0.225, 0.25 , 0.275, 0.3  , 0.325, 0.35 , 0.375])"
      ]
     },
     "execution_count": 144,
     "metadata": {},
     "output_type": "execute_result"
    }
   ],
   "source": [
    "percents"
   ]
  },
  {
   "cell_type": "code",
   "execution_count": null,
   "metadata": {},
   "outputs": [],
   "source": []
  }
 ],
 "metadata": {
  "kernelspec": {
   "display_name": "vienna",
   "language": "python",
   "name": "python3"
  },
  "language_info": {
   "codemirror_mode": {
    "name": "ipython",
    "version": 3
   },
   "file_extension": ".py",
   "mimetype": "text/x-python",
   "name": "python",
   "nbconvert_exporter": "python",
   "pygments_lexer": "ipython3",
   "version": "3.10.12"
  },
  "orig_nbformat": 4
 },
 "nbformat": 4,
 "nbformat_minor": 2
}
