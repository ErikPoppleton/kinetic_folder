{
 "cells": [
  {
   "cell_type": "code",
   "execution_count": 102,
   "metadata": {},
   "outputs": [],
   "source": [
    "import RNA\n",
    "import random"
   ]
  },
  {
   "cell_type": "code",
   "execution_count": 103,
   "metadata": {},
   "outputs": [],
   "source": [
    "def penalize_barriers(i, j, k, l, d, arg_dict):\n",
    "    penalty = 100 # WHAT SHOULD THIS BE???\n",
    "    if d in [RNA.DECOMP_PAIR_IL, RNA.DECOMP_PAIR_HP, RNA.DECOMP_PAIR_ML]:\n",
    "        ref = arg_dict['last']\n",
    "        if i in ref.keys():\n",
    "            if ref[i] == j:\n",
    "                return 0\n",
    "            else:\n",
    "                return penalty\n",
    "            \n",
    "    return 0\n",
    "\n",
    "\n",
    "def parse_dot_bracket(db):\n",
    "    open_stack = []\n",
    "    pairs = []\n",
    "    for i, c in enumerate(db):\n",
    "        if c == '(':\n",
    "            open_stack.append(i)\n",
    "        elif c == ')':\n",
    "            pairs.append((open_stack.pop(), i))\n",
    "\n",
    "    return(pairs)\n",
    "\n",
    "def dict_dot_bracket(db):\n",
    "    open_stack = []\n",
    "    pairs = {}\n",
    "    for i, c in enumerate(db):\n",
    "        if c == '(':\n",
    "            open_stack.append(i)\n",
    "        elif c == ')':\n",
    "            j = open_stack.pop()\n",
    "            pairs[i+1] = j+1\n",
    "            pairs[j+1] = i+1\n",
    "\n",
    "    return(pairs)"
   ]
  },
  {
   "cell_type": "code",
   "execution_count": 104,
   "metadata": {},
   "outputs": [],
   "source": [
    "def get_fc():\n",
    "    #seq = ''.join(random.choices(['A', 'U', 'C', 'G'],[0.25, 0.25, 0.25, 0.25], k=20))\n",
    "    seq = 'AGGACGCAACGCCGAACUAG'\n",
    "    fc = RNA.fold_compound(seq)\n",
    "    return fc"
   ]
  },
  {
   "cell_type": "code",
   "execution_count": 105,
   "metadata": {},
   "outputs": [
    {
     "data": {
      "text/plain": [
       "'\\nAGGACGCAACGCCGAACUAG\\n(RNA.RNA.subopt_solution(structure=\".((.((...)))).......\", energy=-1.3),\\n RNA.RNA.subopt_solution(structure=\"((..((......))..))..\", energy=-0.5),\\n RNA.RNA.subopt_solution(structure=\".((........)).......\", energy=-0.5))'"
      ]
     },
     "execution_count": 105,
     "metadata": {},
     "output_type": "execute_result"
    }
   ],
   "source": [
    "'''\n",
    "AGGACGCAACGCCGAACUAG\n",
    "(RNA.RNA.subopt_solution(structure=\".((.((...)))).......\", energy=-1.3),\n",
    " RNA.RNA.subopt_solution(structure=\"((..((......))..))..\", energy=-0.5),\n",
    " RNA.RNA.subopt_solution(structure=\".((........)).......\", energy=-0.5))'''"
   ]
  },
  {
   "cell_type": "code",
   "execution_count": 106,
   "metadata": {},
   "outputs": [
    {
     "name": "stdout",
     "output_type": "stream",
     "text": [
      "AGGACGCAACGCCGAACUAG\n"
     ]
    },
    {
     "data": {
      "text/plain": [
       "(RNA.RNA.subopt_solution(structure=\".((.((...)))).......\", energy=-1.3),\n",
       " RNA.RNA.subopt_solution(structure=\"((..((......))..))..\", energy=-0.5),\n",
       " RNA.RNA.subopt_solution(structure=\".((........)).......\", energy=-0.5))"
      ]
     },
     "execution_count": 106,
     "metadata": {},
     "output_type": "execute_result"
    }
   ],
   "source": [
    "fc = get_fc()\n",
    "print(fc.sequence)\n",
    "fc.subopt(100)"
   ]
  },
  {
   "cell_type": "code",
   "execution_count": 107,
   "metadata": {},
   "outputs": [
    {
     "name": "stdout",
     "output_type": "stream",
     "text": [
      "AGGACGCAACGCCGAACUAG\n",
      ".((.((...))))....... -1.2999999523162842\n"
     ]
    }
   ],
   "source": [
    "fc = get_fc()\n",
    "out = fc.mfe()\n",
    "print(fc.sequence)\n",
    "print(out[0], out[1])"
   ]
  },
  {
   "cell_type": "code",
   "execution_count": 108,
   "metadata": {},
   "outputs": [
    {
     "name": "stdout",
     "output_type": "stream",
     "text": [
      "{13: 6, 6: 13, 14: 5, 5: 14, 17: 2, 2: 17, 18: 1, 1: 18}\n",
      "AGGACGCAACGCCGAACUAG\n",
      ".((.((...))))....... -1.2999999523162842\n",
      "((..((......))..)).. -0.5\n"
     ]
    }
   ],
   "source": [
    "#           AAGCAUGCUACCGGAGGAGC\n",
    "penalize = '((..((......))..))..'\n",
    "parsed = dict_dot_bracket(penalize)\n",
    "print(parsed)\n",
    "\n",
    "fc2 = get_fc()\n",
    "step_info = {\n",
    "        'last' : dict_dot_bracket(penalize)\n",
    "        }\n",
    "\n",
    "fc2.sc_add_f(penalize_barriers)\n",
    "fc2.sc_add_data(step_info)\n",
    "\n",
    "out2 = fc2.mfe()\n",
    "print(fc.sequence)\n",
    "print(out[0], out[1])\n",
    "print(out2[0], out2[1])"
   ]
  },
  {
   "cell_type": "code",
   "execution_count": 109,
   "metadata": {},
   "outputs": [
    {
     "data": {
      "text/plain": [
       "(RNA.RNA.subopt_solution(structure=\"((..((......))..))..\", energy=-0.5),\n",
       " RNA.RNA.subopt_solution(structure=\"....................\", energy=0),\n",
       " RNA.RNA.subopt_solution(structure=\".((........)).......\", energy=0.5))"
      ]
     },
     "execution_count": 109,
     "metadata": {},
     "output_type": "execute_result"
    }
   ],
   "source": [
    "fc2.subopt(100)"
   ]
  },
  {
   "cell_type": "code",
   "execution_count": 110,
   "metadata": {},
   "outputs": [
    {
     "name": "stdout",
     "output_type": "stream",
     "text": [
      "External loop                           :  -140\n",
      "Interior loop (  2, 13) GC; (  3, 12) GC:  -330\n",
      "Interior loop (  3, 12) GC; (  5, 11) CG:    40\n",
      "Interior loop (  5, 11) CG; (  6, 10) GC:  -240\n",
      "Hairpin  loop (  6, 10) GC              :   540\n"
     ]
    },
    {
     "data": {
      "text/plain": [
       "-1.2999999523162842"
      ]
     },
     "execution_count": 110,
     "metadata": {},
     "output_type": "execute_result"
    }
   ],
   "source": [
    "fc.eval_structure_verbose(out[0])"
   ]
  },
  {
   "cell_type": "code",
   "execution_count": 111,
   "metadata": {},
   "outputs": [
    {
     "name": "stdout",
     "output_type": "stream",
     "text": [
      "External loop                           :  -140\n",
      "Interior loop (  2, 13) GC; (  3, 12) GC:  -230\n",
      "Interior loop (  3, 12) GC; (  5, 11) CG:    40\n",
      "Interior loop (  5, 11) CG; (  6, 10) GC:  -140\n",
      "Hairpin  loop (  6, 10) GC              :   640\n"
     ]
    },
    {
     "data": {
      "text/plain": [
       "1.7000000476837158"
      ]
     },
     "execution_count": 111,
     "metadata": {},
     "output_type": "execute_result"
    }
   ],
   "source": [
    "fc2.eval_structure_verbose(out[0])"
   ]
  },
  {
   "cell_type": "code",
   "execution_count": 112,
   "metadata": {},
   "outputs": [
    {
     "name": "stdout",
     "output_type": "stream",
     "text": [
      "External loop                           :   -20\n",
      "Interior loop (  1, 18) AU; (  2, 17) GC:  -210\n",
      "Interior loop (  2, 17) GC; (  5, 14) CG:   -50\n",
      "Interior loop (  5, 14) CG; (  6, 13) GC:  -240\n",
      "Hairpin  loop (  6, 13) GC              :   470\n"
     ]
    },
    {
     "data": {
      "text/plain": [
       "-0.5"
      ]
     },
     "execution_count": 112,
     "metadata": {},
     "output_type": "execute_result"
    }
   ],
   "source": [
    "fc.eval_structure_verbose(out2[0])"
   ]
  },
  {
   "cell_type": "code",
   "execution_count": 113,
   "metadata": {},
   "outputs": [
    {
     "name": "stdout",
     "output_type": "stream",
     "text": [
      "External loop                           :   -20\n",
      "Interior loop (  1, 18) AU; (  2, 17) GC:  -210\n",
      "Interior loop (  2, 17) GC; (  5, 14) CG:   -50\n",
      "Interior loop (  5, 14) CG; (  6, 13) GC:  -240\n",
      "Hairpin  loop (  6, 13) GC              :   470\n"
     ]
    },
    {
     "data": {
      "text/plain": [
       "-0.5"
      ]
     },
     "execution_count": 113,
     "metadata": {},
     "output_type": "execute_result"
    }
   ],
   "source": [
    "fc2.eval_structure_verbose(out2[0])"
   ]
  },
  {
   "cell_type": "code",
   "execution_count": 114,
   "metadata": {},
   "outputs": [
    {
     "name": "stdout",
     "output_type": "stream",
     "text": [
      "External loop                           :  -140\n",
      "Interior loop (  2, 13) GC; (  3, 12) GC:  -330\n",
      "Hairpin  loop (  3, 12) GC              :   420\n"
     ]
    },
    {
     "data": {
      "text/plain": [
       "-0.5"
      ]
     },
     "execution_count": 114,
     "metadata": {},
     "output_type": "execute_result"
    }
   ],
   "source": [
    "fc.eval_structure_verbose('.((........)).......')"
   ]
  },
  {
   "cell_type": "code",
   "execution_count": 115,
   "metadata": {},
   "outputs": [
    {
     "name": "stdout",
     "output_type": "stream",
     "text": [
      "External loop                           :  -140\n",
      "Interior loop (  2, 13) GC; (  3, 12) GC:  -230\n",
      "Hairpin  loop (  3, 12) GC              :   420\n"
     ]
    },
    {
     "data": {
      "text/plain": [
       "0.5"
      ]
     },
     "execution_count": 115,
     "metadata": {},
     "output_type": "execute_result"
    }
   ],
   "source": [
    "fc2.eval_structure_verbose('.((........)).......')"
   ]
  },
  {
   "cell_type": "code",
   "execution_count": 116,
   "metadata": {},
   "outputs": [
    {
     "name": "stdout",
     "output_type": "stream",
     "text": [
      "AGGACGCAACGCCGAACUAG\n",
      "((..((......))..)).. -0.5\n"
     ]
    }
   ],
   "source": [
    "import RNA\n",
    "# Create a soft constraint function which returns a penalty when i is not paired to a specific j\n",
    "def penalize_barriers(i, j, k, l, d, arg_dict):\n",
    "    penalty = 100\n",
    "    if d in [RNA.DECOMP_PAIR_IL, RNA.DECOMP_PAIR_HP, RNA.DECOMP_PAIR_ML]:\n",
    "        ref = arg_dict['ref']\n",
    "        if i in ref.keys():\n",
    "            if ref[i] == j:\n",
    "                return 0\n",
    "            else:\n",
    "                return penalty\n",
    "\n",
    "            # There's no penalty for i being unpaired, but there should be\n",
    "            \n",
    "    return 0\n",
    "\n",
    "# Parse a db string and return a dict of pairs\n",
    "def dict_dot_bracket(db):\n",
    "    open_stack = []\n",
    "    pairs = {}\n",
    "    for i, c in enumerate(db):\n",
    "        if c == '(':\n",
    "            open_stack.append(i)\n",
    "        elif c == ')':\n",
    "            j = open_stack.pop()\n",
    "            pairs[i+1] = j+1\n",
    "            pairs[j+1] = i+1\n",
    "\n",
    "    return(pairs)\n",
    "    \n",
    "# According to this subopt, this sequence has the following structures:\n",
    "# structure=\".((.((...)))).......\", energy=-1.3\n",
    "# structure=\"((..((......))..))..\", energy=-0.5\n",
    "# structure=\".((........)).......\", energy=-0.5\n",
    "seq = 'AGGACGCAACGCCGAACUAG'\n",
    "fc = RNA.fold_compound(seq)\n",
    "\n",
    "# Add a soft constraint penalizing structures different than a reference\n",
    "penalize = '((..((......))..))..'\n",
    "step_info = { 'ref' : dict_dot_bracket(penalize) }\n",
    "fc.sc_add_f(penalize_barriers)\n",
    "fc.sc_add_data(step_info)\n",
    "\n",
    "out = fc.mfe()\n",
    "\n",
    "print(fc.sequence)\n",
    "print(out[0], out[1])"
   ]
  },
  {
   "cell_type": "code",
   "execution_count": null,
   "metadata": {},
   "outputs": [],
   "source": []
  },
  {
   "cell_type": "markdown",
   "metadata": {},
   "source": [
    "half-written response to Ronny which might not be needed\n",
    "Thanks for the help, but I have one more question.  The example you gave there shows how to penalize certain base pairs, but is there a way to penalize a certain base being unpaired?  Here's a concrete example of what I'm trying to do:\n",
    "\n",
    "```python\n",
    "import RNA\n",
    "\n",
    "# Create a soft constraint function which returns a penalty when i is not paired to a specific j\n",
    "def penalize_barriers(i, j, k, l, d, arg_dict):\n",
    "    penalty = 100\n",
    "    if d in [RNA.DECOMP_PAIR_IL, RNA.DECOMP_PAIR_HP, RNA.DECOMP_PAIR_ML]:\n",
    "        ref = arg_dict['ref']\n",
    "        if i in ref.keys():\n",
    "            if ref[i] == j:\n",
    "                return 0\n",
    "            else:\n",
    "                return penalty\n",
    "\n",
    "            # There's no penalty for i being unpaired, but there should be\n",
    "            \n",
    "    return 0\n",
    "\n",
    "# Parse a db string and return a dict of pairs\n",
    "def dict_dot_bracket(db):\n",
    "    open_stack = []\n",
    "    pairs = {}\n",
    "    for i, c in enumerate(db):\n",
    "        if c == '(':\n",
    "            open_stack.append(i)\n",
    "        elif c == ')':\n",
    "            j = open_stack.pop()\n",
    "            pairs[i] = j\n",
    "            pairs[j] = i\n",
    "\n",
    "    return(pairs)\n",
    "    \n",
    "# According to this subopt, this sequence has the following structures:\n",
    "# structure=\".((.((...)))).......\", energy=-1.3\n",
    "# structure=\"((..((......))..))..\", energy=-0.5\n",
    "# structure=\".((........)).......\", energy=-0.5\n",
    "seq = 'AGGACGCAACGCCGAACUAG'\n",
    "fc = RNA.fold_compound(seq)\n",
    "\n",
    "# Add a soft constraint penalizing structures which break base pairs in a reference\n",
    "reference = '((..((......))..))..'\n",
    "step_info = { 'ref' : dict_dot_bracket(reference) }\n",
    "fc.sc_add_f(penalize_barriers)\n",
    "fc.sc_add_data(step_info)\n",
    "\n",
    "out = fc.mfe()\n",
    "\n",
    "print(fc.sequence)\n",
    "print(out[0], out[1])\n",
    "```\n",
    "\n",
    "When I run this, I get \n",
    "```\n",
    "AGGACGCAACGCCGAACUAG\n",
    ".((........))....... -0.5\n",
    "```\n",
    "Which is missing 3 pairs which exist in the reference (the bases which are formed are good).  Additionally, when I run `fc.eval_structure_verbose(reference)`, I would expect it to return the same value as it did without any constraints (-0.5), "
   ]
  },
  {
   "cell_type": "markdown",
   "metadata": {},
   "source": []
  }
 ],
 "metadata": {
  "kernelspec": {
   "display_name": "vienna",
   "language": "python",
   "name": "python3"
  },
  "language_info": {
   "codemirror_mode": {
    "name": "ipython",
    "version": 3
   },
   "file_extension": ".py",
   "mimetype": "text/x-python",
   "name": "python",
   "nbconvert_exporter": "python",
   "pygments_lexer": "ipython3",
   "version": "3.10.12"
  },
  "orig_nbformat": 4
 },
 "nbformat": 4,
 "nbformat_minor": 2
}
